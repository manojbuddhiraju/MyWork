{
 "cells": [
  {
   "cell_type": "code",
   "execution_count": 2,
   "id": "52f126c8",
   "metadata": {},
   "outputs": [
    {
     "name": "stdout",
     "output_type": "stream",
     "text": [
      "Requirement already satisfied: flask in c:\\users\\srikanth.mandela\\anaconda3\\lib\\site-packages (1.1.2)\n",
      "Requirement already satisfied: click>=5.1 in c:\\users\\srikanth.mandela\\anaconda3\\lib\\site-packages (from flask) (8.0.4)\n",
      "Requirement already satisfied: Jinja2>=2.10.1 in c:\\users\\srikanth.mandela\\anaconda3\\lib\\site-packages (from flask) (2.11.3)\n",
      "Requirement already satisfied: itsdangerous>=0.24 in c:\\users\\srikanth.mandela\\anaconda3\\lib\\site-packages (from flask) (2.0.1)\n",
      "Requirement already satisfied: Werkzeug>=0.15 in c:\\users\\srikanth.mandela\\anaconda3\\lib\\site-packages (from flask) (2.0.3)\n",
      "Requirement already satisfied: colorama in c:\\users\\srikanth.mandela\\anaconda3\\lib\\site-packages (from click>=5.1->flask) (0.4.5)\n",
      "Requirement already satisfied: MarkupSafe>=0.23 in c:\\users\\srikanth.mandela\\anaconda3\\lib\\site-packages (from Jinja2>=2.10.1->flask) (2.0.1)\n",
      "Note: you may need to restart the kernel to use updated packages.\n"
     ]
    }
   ],
   "source": [
    "pip install flask"
   ]
  },
  {
   "cell_type": "code",
   "execution_count": null,
   "id": "f893836a",
   "metadata": {},
   "outputs": [
    {
     "name": "stdout",
     "output_type": "stream",
     "text": [
      " * Serving Flask app \"__main__\" (lazy loading)\n",
      " * Environment: production\n",
      "\u001b[31m   WARNING: This is a development server. Do not use it in a production deployment.\u001b[0m\n",
      "\u001b[2m   Use a production WSGI server instead.\u001b[0m\n",
      " * Debug mode: off\n"
     ]
    },
    {
     "name": "stderr",
     "output_type": "stream",
     "text": [
      " * Running on http://127.0.0.1:5000/ (Press CTRL+C to quit)\n"
     ]
    }
   ],
   "source": [
    "from flask import Flask, request, render_template, make_response\n",
    "import csv\n",
    "\n",
    "app = Flask(__name__)\n",
    "\n",
    "# Determine suitable crops based on land details\n",
    "def determine_suitable_crops(land_area, soil_type, weather_condition):\n",
    "    suitable_crops = []\n",
    "\n",
    "    # Perform your logic here to determine suitable crops\n",
    "    # You can use if-else statements, data lookup tables, or any other approach based on your requirements\n",
    "\n",
    "    # Example logic based on land area, soil type, and weather condition\n",
    "    if land_area < 10 and soil_type == 'sandy' and weather_condition == 'sunny':\n",
    "        suitable_crops = ['Crop 1']\n",
    "    elif land_area >= 10 and soil_type == 'clay' and weather_condition == 'rainy':\n",
    "        suitable_crops = ['Crop 2', 'Crop 3']\n",
    "    else:\n",
    "        suitable_crops = ['No suitable crops found']\n",
    "\n",
    "    return suitable_crops\n",
    "\n",
    "\n",
    "@app.route('/', methods=['GET', 'POST'])\n",
    "def register():\n",
    "    if request.method == 'POST':\n",
    "        # Retrieve form data\n",
    "        name = request.form.get('name')\n",
    "        land_area = float(request.form.get('land_area'))\n",
    "        soil_type = request.form.get('soil_type')\n",
    "        location = request.form.get('location')\n",
    "        crop_type = request.form.get('crop_type')\n",
    "        investment = request.form.get('investment')\n",
    "        weather_condition = request.form.get('weather_condition')\n",
    "        previous_loss = request.form.get('previous_loss')\n",
    "        mobile_no = request.form.get('mobile_no')\n",
    "        email_id = request.form.get('email_id')\n",
    "\n",
    "        # Determine suitable crops based on land details\n",
    "        suitable_crops = determine_suitable_crops(land_area, soil_type, weather_condition)\n",
    "\n",
    "        # Generate CSV content\n",
    "        csv_data = \"Crop\\n\" + \"\\n\".join(suitable_crops)\n",
    "\n",
    "        # Send CSV file as response\n",
    "        response = make_response(csv_data)\n",
    "        response.headers['Content-Disposition'] = 'attachment; filename=suitable_crops.csv'\n",
    "        response.headers['Content-type'] = 'text/csv'\n",
    "\n",
    "        return response\n",
    "\n",
    "    return '''\n",
    "    <!DOCTYPE html>\n",
    "    <html>\n",
    "    <head>\n",
    "      <title>Farmer Registration</title>\n",
    "      <style>\n",
    "        body {\n",
    "          background-image: url(\"path_to_your_image.jpg\");\n",
    "          background-repeat: no-repeat;\n",
    "          background-size: cover;\n",
    "        }\n",
    "      </style>\n",
    "    </head>\n",
    "    <body>\n",
    "      <h1>Farmer Registration</h1>\n",
    "\n",
    "      <form action=\"/\" method=\"POST\">\n",
    "        <label for=\"name\">Name:</label>\n",
    "        <input type=\"text\" id=\"name\" name=\"name\" required><br><br>\n",
    "\n",
    "        <label for=\"land_area\">Land Area (in acres):</label>\n",
    "        <input type=\"number\" id=\"land_area\" name=\"land_area\" required><br><br>\n",
    "\n",
    "        <label for=\"soil_type\">Soil Type:</label>\n",
    "        <select id=\"soil_type\" name=\"soil_type\" required>\n",
    "          <option value=\"\">Select Soil Type</option>\n",
    "          <option value=\"sandy\">Sandy</option>\n",
    "          <option value=\"clay\">Clay</option>\n",
    "          <option value=\"loam\">Loam</option>\n",
    "          <option value=\"silt\">Silt</option>\n",
    "        </select><br><br>\n",
    "\n",
    "        <label for=\"location\">Location:</label>\n",
    "        <input type=\"text\" id=\"location\" name=\"location\" required><br><br>\n",
    "\n",
    "        <label for=\"crop_type\">Crop Type:</label>\n",
    "        <input type=\"text\" id=\"crop_type\" name=\"crop_type\" required><br><br>\n",
    "\n",
    "        <label for=\"investment\">Investment:</label>\n",
    "        <input type=\"text\" id=\"investment\" name=\"investment\" required><br><br>\n",
    "\n",
    "        <label for=\"weather_condition\">Weather Condition:</label>\n",
    "        <input type=\"text\" id=\"weather_condition\" name=\"weather_condition\" required><br><br>\n",
    "\n",
    "        <label for=\"previous_loss\">Previous Loss:</label>\n",
    "        <input type=\"text\" id=\"previous_loss\" name=\"previous_loss\" required><br><br>\n",
    "\n",
    "        <label for=\"mobile_no\">Mobile No:</label>\n",
    "        <input type=\"tel\" id=\"mobile_no\" name=\"mobile_no\" required><br><br>\n",
    "\n",
    "        <label for=\"email_id\">Email ID:</label>\n",
    "        <input type=\"email\" id=\"email_id\" name=\"email_id\" required><br><br>\n",
    "\n",
    "        <input type=\"submit\" value=\"Submit\">\n",
    "      </form>\n",
    "    </body>\n",
    "    </html>\n",
    "    '''\n",
    "\n",
    "\n",
    "if __name__ == '__main__':\n",
    "    app.run()\n"
   ]
  },
  {
   "cell_type": "code",
   "execution_count": null,
   "id": "b7919823",
   "metadata": {},
   "outputs": [],
   "source": []
  }
 ],
 "metadata": {
  "kernelspec": {
   "display_name": "Python 3 (ipykernel)",
   "language": "python",
   "name": "python3"
  },
  "language_info": {
   "codemirror_mode": {
    "name": "ipython",
    "version": 3
   },
   "file_extension": ".py",
   "mimetype": "text/x-python",
   "name": "python",
   "nbconvert_exporter": "python",
   "pygments_lexer": "ipython3",
   "version": "3.9.13"
  }
 },
 "nbformat": 4,
 "nbformat_minor": 5
}
